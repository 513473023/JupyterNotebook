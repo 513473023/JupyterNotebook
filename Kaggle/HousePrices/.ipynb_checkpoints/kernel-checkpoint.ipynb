{
 "cells": [
  {
   "cell_type": "markdown",
   "metadata": {
    "_uuid": "9d6f495ca771e6ccff1ccaa4feaa9b76d5dd7fa0"
   },
   "source": [
    "# **一篇中文的Kaggle房价预测入门**"
   ]
  },
  {
   "cell_type": "markdown",
   "metadata": {
    "_uuid": "6aa7e28cd41b69aadd9c36170860f402cadb71ee"
   },
   "source": [
    "## **首先载入数据，数据的目录可以点右上角Commit&Run右边的小箭头查看**"
   ]
  },
  {
   "cell_type": "code",
   "execution_count": null,
   "metadata": {
    "_cell_guid": "b1076dfc-b9ad-4769-8c92-a6c4dae69d19",
    "_uuid": "8f2839f25d086af736a60e9eeb907d3b93b6e0e5",
    "collapsed": true
   },
   "outputs": [],
   "source": [
    "import numpy as np\n",
    "import pandas as pd\n",
    "import matplotlib.pyplot as plt\n",
    "import seaborn as sns\n",
    "from scipy import stats\n",
    "from scipy.stats import norm, skew\n",
    "\n",
    "import warnings\n",
    "warnings.filterwarnings(\"ignore\")\n",
    "\n",
    "pd.set_option('display.max_columns',None) # 显示所有列\n",
    "\n",
    "data_train = pd.read_csv('../input/train.csv')\n",
    "data_test = pd.read_csv('../input/test.csv')\n",
    "\n",
    "train_ID = data_train['Id']\n",
    "test_ID = data_test['Id']\n",
    "\n",
    "data_train.drop(['Id'], axis=1, inplace=True)\n",
    "data_test.drop(['Id'], axis=1, inplace=True)\n",
    "\n",
    "data_train.head(10) # 打印头10条数据"
   ]
  },
  {
   "cell_type": "markdown",
   "metadata": {
    "_cell_guid": "79c7e3d0-c299-4dcb-8224-4455121ee9b0",
    "_uuid": "d629ff2d2480ee46fbb7e2d37f6b5fab8052498a",
    "collapsed": true
   },
   "source": [
    "## **好了，我们看到数据了，接下来对数据进行分析处理**"
   ]
  },
  {
   "cell_type": "markdown",
   "metadata": {
    "_uuid": "82362512ff0a13d21e0968ce79123feff47fbede"
   },
   "source": [
    "### 首先看看数据中用于预测的特征有哪些"
   ]
  },
  {
   "cell_type": "code",
   "execution_count": null,
   "metadata": {
    "_uuid": "bc71dee3bd3952d9eadc2fc05616bc1830069052",
    "collapsed": true
   },
   "outputs": [],
   "source": [
    "print(data_train.columns)\n",
    "print(\"特征总数：\", data_train.columns.size)"
   ]
  },
  {
   "cell_type": "markdown",
   "metadata": {
    "_uuid": "7a2118d8893f8140984382d95a7fbf0e0fb3d0ca"
   },
   "source": [
    "### 用于预测的数据中有79个特征（除去Id和SalePrice），而这些特征中经过一个房奴的分(cai)析(ce)得出对于买房最需要考虑的四个特征：\n",
    "* OverallQual（总体质量）\n",
    "* YearBuilt（修建年份）\n",
    "* TotalBsmtSF（地下室总面积）\n",
    "* GrLivArea（地上居住面积）\n",
    "\n",
    "### 接下来进行一一画图分析它们和房价SalePrice间的关系"
   ]
  },
  {
   "cell_type": "code",
   "execution_count": null,
   "metadata": {
    "_uuid": "41fd07c569504887af5ba06b61d8faeab6d2aa65",
    "collapsed": true
   },
   "outputs": [],
   "source": [
    "def plot_relation_to_price(data, fea):\n",
    "    plt.scatter(data[fea], data['SalePrice'])\n",
    "    plt.ylabel('SalePrice', fontsize=13)\n",
    "    plt.xlabel(fea, fontsize=13)\n",
    "\n",
    "plt.figure(figsize=(20,10))\n",
    "plt.subplots_adjust(wspace=0.2, hspace=0.2)\n",
    "\n",
    "plt.subplot(2,2,1)\n",
    "plot_relation_to_price(data_train, 'OverallQual')\n",
    "plt.subplot(2,2,2)\n",
    "plot_relation_to_price(data_train, 'YearBuilt')\n",
    "plt.subplot(2,2,3)\n",
    "plot_relation_to_price(data_train, 'TotalBsmtSF')\n",
    "plt.subplot(2,2,4)\n",
    "plot_relation_to_price(data_train, 'GrLivArea')\n",
    "plt.show()"
   ]
  },
  {
   "cell_type": "markdown",
   "metadata": {
    "_uuid": "33244792e1f002d297677e02038bfdd5373b2d8d"
   },
   "source": [
    "### 可以看出 \n",
    "* OverallQual 和 SalePrice 分布趋势相同。\n",
    "* YearBuilt 和 SalePrice 之间的关系没有很强的趋势性，但是可以看出建筑时间较短的房屋价格更高。\n",
    "* GrLivArea 和 SalePrice 关系很密切，并且基本呈线性关系。\n",
    "* TotalBsmtSF 和 SalePrice 关系也很密切，从图中可以看出基本呈指数分布，但从最左侧的点可以看出特定情况下 TotalBsmtSF 对 SalePrice 没有产生影响。"
   ]
  },
  {
   "cell_type": "markdown",
   "metadata": {
    "_uuid": "9e298e9cea1c6ab7e654313d6eb8590a574441b6"
   },
   "source": [
    "### 好的，我们只分析了四个特征，还有许多其它特征我们也应该分析分析，是不是想想头皮发麻？"
   ]
  },
  {
   "cell_type": "markdown",
   "metadata": {
    "_uuid": "4baa6fe2825ee63c0186ae3801d88597f001b34e"
   },
   "source": [
    "### 上面的分(cai)析(ce)毫无根据，接下来，让我们看看如何利用相关系数矩阵真正找出和预测SalePrice相关的特征，以及如何筛选特征\n",
    "### 首先计算相关性并画出相关性矩阵："
   ]
  },
  {
   "cell_type": "code",
   "execution_count": null,
   "metadata": {
    "_uuid": "56c2eba4102b7654bc0c673123e3eed09cdb4530",
    "collapsed": true
   },
   "outputs": [],
   "source": [
    "corrmat = data_train.corr()\n",
    "f, ax = plt.subplots(figsize=(12, 9))\n",
    "sns.heatmap(corrmat, vmax=.8, square=True)"
   ]
  },
  {
   "cell_type": "markdown",
   "metadata": {
    "_uuid": "a8b0b33f699a2f8e719d232bd00712e23ad286ea"
   },
   "source": [
    "### 可以看到两条边上SalePrice 的相关性，之前分析的OverallQual, GrLivArea和TotalBsmtSF等地方发白，说明相关性很强。另外看到的是对角线上两个明显的白色方块，第一个是 TotalBsmtSF 和 1stFlrSF 相关系数，第二个是 Garage[\\*] 之间的相关系数，都显示了这些变量之间很强的相关性，这些变量可能包含了相同的信息。下面将这些特征拎出来重点分析："
   ]
  },
  {
   "cell_type": "code",
   "execution_count": null,
   "metadata": {
    "_uuid": "a092ecde25ca13f59cb9da2ed589a756cca177a7",
    "collapsed": true
   },
   "outputs": [],
   "source": [
    "k = 10\n",
    "cols = corrmat.nlargest(k, 'SalePrice')['SalePrice'].index # 选出和SalePrice相关系数最大的10个特征（包含SalePrice）\n",
    "cm = np.corrcoef(data_train[cols].values.T)\n",
    "hm = sns.heatmap(cm, cbar=True, annot=True, square=True, fmt='.2f', annot_kws={'size': k}, yticklabels=cols.values, xticklabels=cols.values)\n",
    "plt.show()"
   ]
  },
  {
   "cell_type": "markdown",
   "metadata": {
    "_uuid": "9b02488af063ba718dfc6a936b3ed6d49a5da497"
   },
   "source": [
    "### 从图中可以看出：\n",
    "\n",
    "* OverallQual，GrLivArea 以及 TotalBsmtSF 与 SalePrice 有很强的相关性。\n",
    "* GarageCars 和 GarageArea 也和SalePrice相关性很强，但是它们之间的相关性非常强，所以我们只需要其中的一个。这里我们选择了 GarageCars，因为它与 SalePrice 的相关性更高一些。\n",
    "* TotalBsmtSF 和 1stFloor 与上述情况相同，我们选择 TotalBsmtSF。\n",
    "* FullBath 和其它特征相关性不强，直接选取。\n",
    "* TotRmsAbvGrd 和 GrLivArea 也是变量中的双胞胎，之前已经选择了GrLivArea了，TotRmsAbvGrd不必考虑。\n",
    "* YearBuilt 和 SalePrice 相关性似乎不强。\n",
    "\n",
    "### 总结一下，我们筛选出了几个特征OverallQual、GrLivArea、GarageCars、TotalBsmtSF、FullBath、YearBuilt，接下来看看它们和SalePrice间的关系"
   ]
  },
  {
   "cell_type": "code",
   "execution_count": null,
   "metadata": {
    "_uuid": "5df0fe6c5067565752f65a5c21de8486a4acc0f4",
    "collapsed": true
   },
   "outputs": [],
   "source": [
    "sns.set()\n",
    "cols = ['SalePrice', 'OverallQual', 'GrLivArea','GarageCars', 'TotalBsmtSF', 'FullBath', 'YearBuilt']\n",
    "sns.pairplot(data_train[cols], size = 2.5)\n",
    "plt.show();"
   ]
  },
  {
   "cell_type": "markdown",
   "metadata": {
    "_uuid": "8e7dfc48cbe4a22acd0b803844fee7ecff8ddff2"
   },
   "source": [
    "### 根据上面这些图应该可以将其中有特点的逐一进行分析处理。\n",
    "\n",
    "### 比如在上面的几个图中有一些明显的离群点，我们需要将它们删除："
   ]
  },
  {
   "cell_type": "code",
   "execution_count": null,
   "metadata": {
    "_uuid": "ff8b7b4b1d622facf23fdc496c1e264595add634",
    "collapsed": true
   },
   "outputs": [],
   "source": [
    "useless_grlivarea_rows = data_train[(data_train['GrLivArea'] >4000) & (data_train['SalePrice']<300000)].index\n",
    "useless_totalbsmtsf_rows = data_train[(data_train['TotalBsmtSF'] >6000)].index\n",
    "useless_rows = useless_grlivarea_rows.union(useless_totalbsmtsf_rows)\n",
    "data_train.drop(useless_rows,axis=0,inplace=True)"
   ]
  },
  {
   "cell_type": "markdown",
   "metadata": {
    "_uuid": "ed0ea516a32490919edbca111c7b0321314e15bd"
   },
   "source": [
    "### 因为提供了测试数据，为了更好的清理数据，我们将测试数据和训练数据合并起来："
   ]
  },
  {
   "cell_type": "code",
   "execution_count": null,
   "metadata": {
    "_uuid": "fe01b82ea57b50525904e4f4c1c34e6fe68e9319",
    "collapsed": true
   },
   "outputs": [],
   "source": [
    "data_all = pd.concat((data_train, data_test)).reset_index(drop=True)\n",
    "data_all.drop(['SalePrice'], axis=1, inplace=True)"
   ]
  },
  {
   "cell_type": "markdown",
   "metadata": {
    "_uuid": "8f4fb69cc0beef84717956c53239327838849eb4"
   },
   "source": [
    "### 接下来看看数据缺失的问题，首先打印每个特征的空值数和空值率："
   ]
  },
  {
   "cell_type": "code",
   "execution_count": null,
   "metadata": {
    "_uuid": "287386f64f2a5a04f03fd68d37490625f3bf9b9a",
    "collapsed": true
   },
   "outputs": [],
   "source": [
    "def calc_null(data):\n",
    "    total= data.isnull().sum().sort_values(ascending=False)\n",
    "    percent = (data.isnull().sum()/data.isnull().count()).sort_values(ascending=False)\n",
    "    missing_data = pd.concat([total, percent], axis=1, keys=['Total','Percent'])\n",
    "    print(missing_data.head(20))\n",
    "    \n",
    "calc_null(data_all)"
   ]
  },
  {
   "cell_type": "markdown",
   "metadata": {
    "_uuid": "9f3300f4737adb79860333ec7e462251e537d441"
   },
   "source": [
    "### 根据上述统计分析如下：\n",
    "* 当超过 15% 的数据都缺失的时候，我们应该删掉相关特征且假设该变量并不存在。根据这一条，一系列特征都应该删掉，例如 PoolQC，MiscFeature，Alley 等等，这些特征都不是很重要，因为他们基本都不是我们买房子时会考虑的因素。\n",
    "* Garage[\\*] 特征的缺失数据量都相同，由于我们已经有了 GarageCars ，所以删除这些特征。\n",
    "* 对于 MasVnrArea 和 MasVnrType，我们可以认为这些因素并不重要。除此之外，他们和 YearBuilt 以及 OverallQual 都有很强的关联性，而这两个变量我们已经考虑过了。所以删除 MasVnrArea 和 MasVnrType 并不会太多的丢失信息。\n",
    "* Bsmt[\\*]特征分析同上，我们已经有了TotalBsmtSF。\n",
    "* 最后，由于 Electrical 中只有一个损失的观察值，所以我们删除这个观察值，但是保留这一变量。\n",
    "\n",
    "### 对于需要保留的特征的缺失数据，按情况填充默认值（一般情况按均值填充），注意填充时测试数据应该和训练数据一致，接下来一一处理："
   ]
  },
  {
   "cell_type": "markdown",
   "metadata": {
    "_uuid": "e1c6b0791adf355dd5940bef0600f26fbc049f09"
   },
   "source": [
    "* ### PoolQC : 数据为空表示“没有游泳池”，这很容易理解，一般99%的房子 都没有游泳池。"
   ]
  },
  {
   "cell_type": "code",
   "execution_count": null,
   "metadata": {
    "_uuid": "a1fffec892b808f9dfeb79a50f51515acee761e2",
    "collapsed": true
   },
   "outputs": [],
   "source": [
    "data_all[\"PoolQC\"] = data_all[\"PoolQC\"].fillna(\"None\")"
   ]
  },
  {
   "cell_type": "markdown",
   "metadata": {
    "_uuid": "6bc762ed6c4c59d69880eb5f488b83f84230c856"
   },
   "source": [
    "* ### MiscFeature : 空值表示没有杂项特征"
   ]
  },
  {
   "cell_type": "code",
   "execution_count": null,
   "metadata": {
    "_uuid": "5c6e61380bb2fe8946fbd18147533c1bb97acc0d",
    "collapsed": true
   },
   "outputs": [],
   "source": [
    "data_all[\"MiscFeature\"] = data_all[\"MiscFeature\"].fillna(\"None\")"
   ]
  },
  {
   "cell_type": "markdown",
   "metadata": {
    "_uuid": "baca5922e952264b4c561428733da85806ac2e06"
   },
   "source": [
    "* ### Alley : 空值表示没有小巷入口"
   ]
  },
  {
   "cell_type": "code",
   "execution_count": null,
   "metadata": {
    "_uuid": "4fc03690e68ec20e5604ac7e5374772a3952b285",
    "collapsed": true
   },
   "outputs": [],
   "source": [
    "data_all[\"Alley\"] = data_all[\"Alley\"].fillna(\"None\")"
   ]
  },
  {
   "cell_type": "markdown",
   "metadata": {
    "_uuid": "26453387b02253d0f4d450b87197d18870819686"
   },
   "source": [
    "* ### Fence : 空值表示没有栅栏"
   ]
  },
  {
   "cell_type": "code",
   "execution_count": null,
   "metadata": {
    "_uuid": "da0b4b18cc6854fc4df1ffa6b71046ec6aed7306",
    "collapsed": true
   },
   "outputs": [],
   "source": [
    "data_all[\"Fence\"] = data_all[\"Fence\"].fillna(\"None\")"
   ]
  },
  {
   "cell_type": "markdown",
   "metadata": {
    "_uuid": "1075fb6538b4728a8806c73bb06d7669a97684d9"
   },
   "source": [
    "* ### FireplaceQu : 空值表示没有壁炉"
   ]
  },
  {
   "cell_type": "code",
   "execution_count": null,
   "metadata": {
    "_uuid": "f3fdb62b01b7351424d95751603169998fbe741e",
    "collapsed": true
   },
   "outputs": [],
   "source": [
    "data_all[\"FireplaceQu\"] = data_all[\"FireplaceQu\"].fillna(\"None\")"
   ]
  },
  {
   "cell_type": "markdown",
   "metadata": {
    "_uuid": "ea41cf967df4dc9e88742c07b5349929e3d293c9"
   },
   "source": [
    "* ### LotFrontage : 因为每条街邻居间房子的临街大小差不多，所以我们用邻居房子的平均临街大小来填充。"
   ]
  },
  {
   "cell_type": "code",
   "execution_count": null,
   "metadata": {
    "_uuid": "ed2962e061d809f51714a69521d5cd1cbbff4988",
    "collapsed": true
   },
   "outputs": [],
   "source": [
    "data_all[\"LotFrontage\"] = data_all.groupby(\"Neighborhood\")[\"LotFrontage\"].transform(lambda x: x.fillna(x.median()))"
   ]
  },
  {
   "cell_type": "markdown",
   "metadata": {
    "_uuid": "584af3dc76a2da3fe0303be64fe9caecc288837a"
   },
   "source": [
    "* ### GarageCond, GarageType, GarageFinish, GarageQual  : 用None填充空值，，代表没有车"
   ]
  },
  {
   "cell_type": "code",
   "execution_count": null,
   "metadata": {
    "_uuid": "1a3b014f2f6897297b308bdb1f255f0a13b0c08f",
    "collapsed": true
   },
   "outputs": [],
   "source": [
    "for col in ('GarageType', 'GarageFinish', 'GarageQual', 'GarageCond'):\n",
    "    data_all[col] = data_all[col].fillna('None')"
   ]
  },
  {
   "cell_type": "markdown",
   "metadata": {
    "_uuid": "91e0465288a7d91a4b92883fc1f0b695e8ea941d"
   },
   "source": [
    "* ### GarageYrBlt,GarageCars,GarageArea: 用0填充空值，代表没有车"
   ]
  },
  {
   "cell_type": "code",
   "execution_count": null,
   "metadata": {
    "_uuid": "fa83f04cd829db9cf8fa58b6b1c7b3b0264c2f85",
    "collapsed": true
   },
   "outputs": [],
   "source": [
    "for col in ('GarageYrBlt', 'GarageCars', 'GarageArea'):\n",
    "    data_all[col] = data_all[col].fillna(0)"
   ]
  },
  {
   "cell_type": "markdown",
   "metadata": {
    "_uuid": "678a804c5618096042a788ddeb70c395897c4716"
   },
   "source": [
    "* ### BsmtFinSF1, BsmtFinSF2, BsmtFullBath,BsmtHalfBath,TotalBsmtSF,BsmtUnfSF: 用0填充空值，代表没有地下室"
   ]
  },
  {
   "cell_type": "code",
   "execution_count": null,
   "metadata": {
    "_uuid": "09a30d9fc461da84d2326bc7739a58fa0a5a13a1",
    "collapsed": true
   },
   "outputs": [],
   "source": [
    "for col in ('BsmtFinSF1', 'BsmtFinSF2', 'BsmtFullBath', 'BsmtHalfBath', 'TotalBsmtSF', 'BsmtUnfSF'):\n",
    "    data_all[col] = data_all[col].fillna(0)"
   ]
  },
  {
   "cell_type": "markdown",
   "metadata": {
    "_uuid": "c9c7b4d54a20ba7633c18879566bfd79203c4398"
   },
   "source": [
    "* ### BsmtExposure, BsmtCond, BsmtQual,BsmtFinType1,BsmtFinType2 : 用None填充空值，代表没有地下室"
   ]
  },
  {
   "cell_type": "code",
   "execution_count": null,
   "metadata": {
    "_uuid": "92137c52b2774d11a993470dc0ea6ca985d903a8",
    "collapsed": true
   },
   "outputs": [],
   "source": [
    "for col in ('BsmtExposure', 'BsmtCond', 'BsmtQual', 'BsmtFinType1', 'BsmtFinType2'):\n",
    "    data_all[col] = data_all[col].fillna('None')"
   ]
  },
  {
   "cell_type": "markdown",
   "metadata": {
    "_uuid": "0414b677d9cf042d122be97cbb672e8ee6def656"
   },
   "source": [
    "* ### MasVnrArea and MasVnrType : 空值表示房子没有墙体外表。"
   ]
  },
  {
   "cell_type": "code",
   "execution_count": null,
   "metadata": {
    "_uuid": "cacbcfd287cef89f5d089b414e21eecf3646fee6",
    "collapsed": true
   },
   "outputs": [],
   "source": [
    "data_all[\"MasVnrType\"] = data_all[\"MasVnrType\"].fillna(\"None\")\n",
    "data_all[\"MasVnrArea\"] = data_all[\"MasVnrArea\"].fillna(0)"
   ]
  },
  {
   "cell_type": "markdown",
   "metadata": {
    "_uuid": "a1696ffb771b9961bc102c6036d1db8b3b6ce6b8"
   },
   "source": [
    "* ### MSZoning (The general zoning classification) : 只有4条空值，用频率最高的值代替。"
   ]
  },
  {
   "cell_type": "code",
   "execution_count": null,
   "metadata": {
    "_uuid": "35f10798e83f19a361510e710853beb4c1e44605",
    "collapsed": true
   },
   "outputs": [],
   "source": [
    "data_all['MSZoning'] = data_all['MSZoning'].fillna(data_all['MSZoning'].mode()[0])"
   ]
  },
  {
   "cell_type": "markdown",
   "metadata": {
    "_uuid": "33b0cee4307890080e1a6fc214fa861b9c1288c7"
   },
   "source": [
    "* ### Utilities : 这个特征没用，删除掉。"
   ]
  },
  {
   "cell_type": "code",
   "execution_count": null,
   "metadata": {
    "_uuid": "0698089e2a01c8c77b8f4a70e508f4a6a84bc784",
    "collapsed": true
   },
   "outputs": [],
   "source": [
    "if data_all.columns.contains('Utilities'):\n",
    "    data_all = data_all.drop(['Utilities'], axis=1)"
   ]
  },
  {
   "cell_type": "markdown",
   "metadata": {
    "_uuid": "c99cc3a271058abb68e777bc9cc9014428c66119"
   },
   "source": [
    "* ### Electrical : 只有一条空值，用频率最高的值代替。其它几个同样处理。"
   ]
  },
  {
   "cell_type": "code",
   "execution_count": null,
   "metadata": {
    "_uuid": "e0c678aa33ab5f1f79e2d86c8c63dce6947f45e6",
    "collapsed": true
   },
   "outputs": [],
   "source": [
    "data_all['Electrical'] = data_all['Electrical'].fillna(data_all['Electrical'].mode()[0])\n",
    "data_all['Functional'] = data_all['Functional'].fillna(data_all['Functional'].mode()[0])\n",
    "data_all['KitchenQual'] = data_all['KitchenQual'].fillna(data_all['KitchenQual'].mode()[0])\n",
    "data_all['Exterior1st'] = data_all['Exterior1st'].fillna(data_all['Exterior1st'].mode()[0])\n",
    "data_all['Exterior2nd'] = data_all['Exterior2nd'].fillna(data_all['Exterior2nd'].mode()[0])\n",
    "data_all['SaleType'] = data_all['SaleType'].fillna(data_all['SaleType'].mode()[0])"
   ]
  },
  {
   "cell_type": "markdown",
   "metadata": {
    "_uuid": "a0499c2511258a56e48df0d2d7f44feeeb41c64b"
   },
   "source": [
    "### 最后来看看空值的个数"
   ]
  },
  {
   "cell_type": "code",
   "execution_count": null,
   "metadata": {
    "_uuid": "442de4322eb0460030a9bcc9c7db27b28aa34513",
    "collapsed": true
   },
   "outputs": [],
   "source": [
    "print(data_all.isnull().sum().sum())"
   ]
  },
  {
   "cell_type": "markdown",
   "metadata": {
    "_uuid": "ee9bd1c7c7c30457ac52c126a9ccb5365d3ee060"
   },
   "source": [
    "### 应该没有空值了。"
   ]
  },
  {
   "cell_type": "markdown",
   "metadata": {
    "_uuid": "a8fd6e0cd7b93b97f7aedeee6ab8271488d68a07"
   },
   "source": [
    "### 将一些实际是类型特征的数值特征做变换"
   ]
  },
  {
   "cell_type": "code",
   "execution_count": null,
   "metadata": {
    "_uuid": "864274eb37460c3bc9e53d9ec24177f2db2782d4",
    "collapsed": true
   },
   "outputs": [],
   "source": [
    "# 建筑类型\n",
    "data_all['MSSubClass'] = data_all['MSSubClass'].apply(str)\n",
    "# 总体条件\n",
    "data_all['OverallCond'] = data_all['OverallCond'].astype(str)\n",
    "# 销售年份月份\n",
    "data_all['YrSold'] = data_all['YrSold'].astype(str)\n",
    "data_all['MoSold'] = data_all['MoSold'].astype(str)"
   ]
  },
  {
   "cell_type": "markdown",
   "metadata": {
    "_uuid": "bf67ef351ca23f23a9f8f0ad10f64586d13801fc"
   },
   "source": [
    "### 将一些有特定值集的类型特征进行标签编码"
   ]
  },
  {
   "cell_type": "code",
   "execution_count": null,
   "metadata": {
    "_uuid": "74b6858bb391657010b32b92455682bdae62acfb",
    "collapsed": true
   },
   "outputs": [],
   "source": [
    "from sklearn.preprocessing import LabelEncoder\n",
    "cols = ('FireplaceQu', 'BsmtQual', 'BsmtCond', 'GarageQual', 'GarageCond', \n",
    "        'ExterQual', 'ExterCond','HeatingQC', 'PoolQC', 'KitchenQual', 'BsmtFinType1', \n",
    "        'BsmtFinType2', 'Functional', 'Fence', 'BsmtExposure', 'GarageFinish', 'LandSlope',\n",
    "        'LotShape', 'PavedDrive', 'Street', 'Alley', 'CentralAir', 'MSSubClass', 'OverallCond', \n",
    "        'YrSold', 'MoSold')\n",
    "# 按列进行标签编码\n",
    "for c in cols:\n",
    "    lbl = LabelEncoder() \n",
    "    lbl.fit(list(data_all[c].values)) \n",
    "    data_all[c] = lbl.transform(list(data_all[c].values))\n",
    "      \n",
    "print('Shape all_data: {}'.format(data_all.shape))"
   ]
  },
  {
   "cell_type": "markdown",
   "metadata": {
    "_uuid": "d277008bede9790d8c7efdf396628be49b6b1dbe"
   },
   "source": [
    "### 通过现有特征变换添加一些特征"
   ]
  },
  {
   "cell_type": "code",
   "execution_count": null,
   "metadata": {
    "_uuid": "06d661c848b92d7064b97be1b0ce73cdb7db11d1",
    "collapsed": true
   },
   "outputs": [],
   "source": [
    "def add_feats(X):\n",
    "    X[\"TotalHouse\"] = X[\"TotalBsmtSF\"] + X[\"1stFlrSF\"] + X[\"2ndFlrSF\"]\n",
    "    X[\"UnitQual\"] = X[\"OverallQual\"] / X[\"TotalHouse\"] \n",
    "    X[\"Bsmt\"] = X[\"BsmtFinSF1\"] + X[\"BsmtFinSF2\"] + X[\"BsmtUnfSF\"]\n",
    "    X[\"PorchArea\"] = X[\"OpenPorchSF\"]+X[\"EnclosedPorch\"]+X[\"3SsnPorch\"]+X[\"ScreenPorch\"]\n",
    "    \n",
    "    #X[\"TotalPlace\"] = X[\"TotalBsmtSF\"] + X[\"1stFlrSF\"] + X[\"2ndFlrSF\"] + X[\"GarageArea\"] + X[\"OpenPorchSF\"]+X[\"EnclosedPorch\"]+X[\"3SsnPorch\"]+X[\"ScreenPorch\"]\n",
    "    return X\n",
    "\n",
    "data_all = add_feats(data_all)"
   ]
  },
  {
   "cell_type": "markdown",
   "metadata": {
    "_uuid": "e3107d46a0d8c7aed117dafa6a123764ca2a9479"
   },
   "source": [
    "### 偏斜特征"
   ]
  },
  {
   "cell_type": "code",
   "execution_count": null,
   "metadata": {
    "_uuid": "e65d8fb830ea9227d27f32c5bc7b4547895c178a",
    "collapsed": true
   },
   "outputs": [],
   "source": [
    "skewed_feats = data_all.select_dtypes(exclude='object').apply(lambda x: skew(x.dropna())).sort_values(ascending=False)\n",
    "skewness = pd.DataFrame({'Skew' :skewed_feats})\n",
    "skewness.head(10)"
   ]
  },
  {
   "cell_type": "code",
   "execution_count": null,
   "metadata": {
    "_uuid": "06a5a72408d1ee1977bc5ec46e8a7ee2c42e1e8b",
    "collapsed": true
   },
   "outputs": [],
   "source": [
    "skewness = skewness[abs(skewness) > 0.75]\n",
    "from scipy.special import boxcox1p\n",
    "skewed_features = skewness.index\n",
    "lam = 0.15\n",
    "for feat in skewed_features:\n",
    "    #data_all[feat] += 1\n",
    "    data_all[feat] = boxcox1p(data_all[feat], lam)"
   ]
  },
  {
   "cell_type": "markdown",
   "metadata": {
    "_uuid": "c2eee6ab328610c6394a7eb10c47955fa449f7d7"
   },
   "source": [
    "### 将类型特征转换为独热码"
   ]
  },
  {
   "cell_type": "code",
   "execution_count": null,
   "metadata": {
    "_uuid": "b98d3fd34476049cefde36c9367154a9660a248e",
    "collapsed": true
   },
   "outputs": [],
   "source": [
    "data_all = pd.get_dummies(data_all)"
   ]
  },
  {
   "cell_type": "markdown",
   "metadata": {
    "_uuid": "0480eb0092c6c604b58be72e0388cffcd989678c"
   },
   "source": [
    "### 特征处理完成，再来看看将要预测的SalePrice的分布"
   ]
  },
  {
   "cell_type": "code",
   "execution_count": null,
   "metadata": {
    "_uuid": "0b431a7a5cd65644aedce3ea9a17105da8366787",
    "collapsed": true
   },
   "outputs": [],
   "source": [
    "print(data_train.SalePrice.describe()) # 打印价格统计\n",
    "sns.distplot(data_train.SalePrice, fit=norm) # 画价格分布直方图"
   ]
  },
  {
   "cell_type": "markdown",
   "metadata": {
    "_uuid": "5f29a441551412175323a2c3467d6092d83bf095"
   },
   "source": [
    "### 从上图可以看出价格的分布偏离正态分布，我们可以使用对数函数log1p让它更像正态分布，**注意在最终预测后用指数函数expm1还原**"
   ]
  },
  {
   "cell_type": "code",
   "execution_count": null,
   "metadata": {
    "_uuid": "ccfa7aec899e1b7a492c2f2e6836e7a280dd9b4b",
    "collapsed": true
   },
   "outputs": [],
   "source": [
    "y_train = np.log1p(data_train.SalePrice.values)\n",
    "sns.distplot(y_train, fit=norm) # 画价格分布直方图"
   ]
  },
  {
   "cell_type": "markdown",
   "metadata": {
    "_uuid": "5f85b60efb3ff5580a481ab9deea8558cb3e9eb0"
   },
   "source": [
    "### 数据处理完成，最后得到训练数据X_train和测试数据X_test"
   ]
  },
  {
   "cell_type": "code",
   "execution_count": null,
   "metadata": {
    "_uuid": "fa5f7424fb56b08d79a09880dda1ad7a89160d57",
    "collapsed": true
   },
   "outputs": [],
   "source": [
    "ntrain = data_train.iloc[:,0].size\n",
    "print(ntrain)\n",
    "X_train = data_all[:ntrain]\n",
    "X_test = data_all[ntrain:]"
   ]
  },
  {
   "cell_type": "markdown",
   "metadata": {
    "_uuid": "c04c3e34b45c4d943f566806e78e15f83abd0233"
   },
   "source": [
    "## 建模\n",
    "### 导入库"
   ]
  },
  {
   "cell_type": "code",
   "execution_count": null,
   "metadata": {
    "_uuid": "e78687df43baf077f7152869e48a787d7e1e10a1",
    "collapsed": true
   },
   "outputs": [],
   "source": [
    "from sklearn.linear_model import ElasticNet, Lasso, BayesianRidge, LassoLarsIC\n",
    "from sklearn.ensemble import RandomForestRegressor, GradientBoostingRegressor\n",
    "from sklearn.kernel_ridge import KernelRidge\n",
    "from sklearn.pipeline import make_pipeline\n",
    "from sklearn.preprocessing import RobustScaler\n",
    "from sklearn.base import BaseEstimator, TransformerMixin, RegressorMixin, clone\n",
    "from sklearn.model_selection import KFold, cross_val_score, train_test_split, GridSearchCV, RandomizedSearchCV\n",
    "from sklearn.metrics import mean_squared_error\n",
    "import xgboost as xgb\n",
    "import lightgbm as lgb"
   ]
  },
  {
   "cell_type": "markdown",
   "metadata": {
    "_uuid": "df9fe1ed3b4fcfbc5983524cf0c49eedd1369ed1"
   },
   "source": [
    "### 定义交叉验证策略"
   ]
  },
  {
   "cell_type": "code",
   "execution_count": null,
   "metadata": {
    "_uuid": "3c4852108a61209e9e3447e566590da7c0491a6a",
    "collapsed": true
   },
   "outputs": [],
   "source": [
    "n_folds = 5 # 交叉验证折数\n",
    "\n",
    "def rmsle_cv(model):\n",
    "    kf = KFold(n_folds, shuffle=True, random_state=42).get_n_splits(X_train.values)\n",
    "    rmse= np.sqrt(-cross_val_score(model, X_train.values, y_train, scoring=\"neg_mean_squared_error\", cv = kf))\n",
    "    return(rmse)"
   ]
  },
  {
   "cell_type": "markdown",
   "metadata": {
    "_uuid": "449f05a3bf23eee376d2fb6798ee2035e8613841"
   },
   "source": [
    "### 定义网格搜索类"
   ]
  },
  {
   "cell_type": "code",
   "execution_count": null,
   "metadata": {
    "_uuid": "8072a472b964d557555d1e3a2f0d54b1ed0f47cb",
    "collapsed": true
   },
   "outputs": [],
   "source": [
    "class grid():\n",
    "    def __init__(self,model):\n",
    "        self.model = model\n",
    "    def grid_get(self,X,y,param_grid):\n",
    "        grid_search = GridSearchCV(self.model,param_grid,cv=5,scoring='neg_mean_squared_error')\n",
    "        grid_search.fit(X,y)\n",
    "        print(grid_search.best_params_,np.sqrt(-grid_search.best_score_))\n",
    "        grid_search.cv_results_['mean_test_score'] = np.sqrt(-grid_search.cv_results_['mean_test_score'])\n",
    "        print(pd.DataFrame(grid_search.cv_results_)[['params','mean_test_score','std_test_score']])\n",
    "\n",
    "class random():\n",
    "    def __init__(self,model):\n",
    "        self.model = model\n",
    "    def random_get(self,X,y,param_grid):\n",
    "        random_search = RandomizedSearchCV(self.model,param_grid,random_state= 0,\n",
    "                                           n_iter = 10,scoring='neg_mean_squared_error')\n",
    "        random_search.fit(X,y)\n",
    "        print(random_search.best_params_,np.sqrt(-random_search.best_score_))\n",
    "        random_search.cv_results_['mean_test_score'] = np.sqrt(-random_search.cv_results_['mean_test_score'])\n",
    "        print(pd.DataFrame(random_search.cv_results_)[['params','mean_test_score','std_test_score']])"
   ]
  },
  {
   "cell_type": "markdown",
   "metadata": {
    "_uuid": "8f0315e4979ddc06eb4432d5687de43d3445ff9a"
   },
   "source": [
    "### 基础模型\n",
    "* LASSO 回归"
   ]
  },
  {
   "cell_type": "code",
   "execution_count": null,
   "metadata": {
    "_uuid": "09edb279c30d346047b33393efab8236d324f5b0",
    "collapsed": true
   },
   "outputs": [],
   "source": [
    "lasso = make_pipeline(RobustScaler(), Lasso(alpha =0.0005, random_state=1))\n",
    "#grid(Lasso()).grid_get(X_train,y_train,{'alpha':[0.01,0.001,0.0001,0.0002,0.0003,0.0004,0.0005,0.0006,0.0007,0.0009],'max_iter':[10000]})\n",
    "#random(Lasso()).random_get(X_train,y_train,{'alpha':[0.01,0.001,0.0001,0.0002,0.0003,0.0004,0.0005,0.0006,0.0007,0.0009]})"
   ]
  },
  {
   "cell_type": "markdown",
   "metadata": {
    "_uuid": "baf9710979bba65fe99d9afa3861d8fcf9b3e454"
   },
   "source": [
    "* Elastic Net 回归"
   ]
  },
  {
   "cell_type": "code",
   "execution_count": null,
   "metadata": {
    "_uuid": "3427f99996d38e141112429ed83fb668ec2da7a4",
    "collapsed": true
   },
   "outputs": [],
   "source": [
    "ENet = make_pipeline(RobustScaler(), ElasticNet(alpha=0.0005, l1_ratio=.9, random_state=3))\n",
    "#grid(ElasticNet()).grid_get(X_train,y_train,{'alpha':[0.003, 0.004,0.005,0.006,0.0065],'l1_ratio':[0.6,0.7,0.8,0.9],'max_iter':[10000]})"
   ]
  },
  {
   "cell_type": "markdown",
   "metadata": {
    "_uuid": "154982880618449a15d59d1be913cee00c63f1ea"
   },
   "source": [
    "* Kernel Ridge 回归"
   ]
  },
  {
   "cell_type": "code",
   "execution_count": null,
   "metadata": {
    "_uuid": "b50810ed39c27f04238860d5e761ef9cf3569cba",
    "collapsed": true
   },
   "outputs": [],
   "source": [
    "KRR = KernelRidge(alpha=0.6, kernel='polynomial', degree=2, coef0=2.5)"
   ]
  },
  {
   "cell_type": "markdown",
   "metadata": {
    "_uuid": "9384a768f8f112d204d1c04d0ff343744a9ea5f0"
   },
   "source": [
    "* Gradient Boosting 回归"
   ]
  },
  {
   "cell_type": "code",
   "execution_count": null,
   "metadata": {
    "_uuid": "8b55127d1f55f1a695f1744b5bdafd121b729173",
    "collapsed": true
   },
   "outputs": [],
   "source": [
    "GBoost = GradientBoostingRegressor(n_estimators=3000, learning_rate=0.05,\n",
    "                                   max_depth=4, max_features='sqrt',\n",
    "                                   min_samples_leaf=15, min_samples_split=10, \n",
    "                                   loss='huber', random_state =5)"
   ]
  },
  {
   "cell_type": "markdown",
   "metadata": {
    "_uuid": "a18ba41f2266ca8eddd0d8f930b31e7b2823801e"
   },
   "source": [
    "* XGBoost"
   ]
  },
  {
   "cell_type": "code",
   "execution_count": null,
   "metadata": {
    "_uuid": "2a77e68b639d7125adad900452011e7dfcb95f7b",
    "collapsed": true
   },
   "outputs": [],
   "source": [
    "model_xgb = xgb.XGBRegressor(colsample_bytree=0.4603, gamma=0.0468, \n",
    "                             learning_rate=0.05, max_depth=3, \n",
    "                             min_child_weight=1.7817, n_estimators=2200,\n",
    "                             reg_alpha=0.4640, reg_lambda=0.8571,\n",
    "                             subsample=0.5213, silent=1,\n",
    "                             random_state =7, nthread = -1)"
   ]
  },
  {
   "cell_type": "markdown",
   "metadata": {
    "_uuid": "01d809ed5c4c997bd85784caca37f796a21f5b39"
   },
   "source": [
    "* LightGBM"
   ]
  },
  {
   "cell_type": "code",
   "execution_count": null,
   "metadata": {
    "_uuid": "8d5ff3a29652fe7b7c1601b5ba61c892085d6c5c",
    "collapsed": true
   },
   "outputs": [],
   "source": [
    "model_lgb = lgb.LGBMRegressor(objective='regression',num_leaves=5,\n",
    "                              learning_rate=0.05, n_estimators=720,\n",
    "                              max_bin = 55, bagging_fraction = 0.8,\n",
    "                              bagging_freq = 5, feature_fraction = 0.2319,\n",
    "                              feature_fraction_seed=9, bagging_seed=9,\n",
    "                              min_data_in_leaf =6, min_sum_hessian_in_leaf = 11)"
   ]
  },
  {
   "cell_type": "markdown",
   "metadata": {
    "_uuid": "7af411388c7b8444f9f90849cdb16842d9c63d7f"
   },
   "source": [
    "### 基础模型得分"
   ]
  },
  {
   "cell_type": "code",
   "execution_count": null,
   "metadata": {
    "_uuid": "54b09163304c70ea9952c37dca365fd130251d54",
    "collapsed": true
   },
   "outputs": [],
   "source": [
    "score = rmsle_cv(lasso)\n",
    "print(\"\\nLasso score: {:.4f} ({:.4f})\\n\".format(score.mean(), score.std()))"
   ]
  },
  {
   "cell_type": "code",
   "execution_count": null,
   "metadata": {
    "_uuid": "0e2cd4b1fac060417a9f301057a517a77b2476d2",
    "collapsed": true
   },
   "outputs": [],
   "source": [
    "score = rmsle_cv(ENet)\n",
    "print(\"ElasticNet score: {:.4f} ({:.4f})\\n\".format(score.mean(), score.std()))"
   ]
  },
  {
   "cell_type": "code",
   "execution_count": null,
   "metadata": {
    "_uuid": "aac3dcfbbd663e27bfc023667d8fef88f87bb0d1",
    "collapsed": true
   },
   "outputs": [],
   "source": [
    "score = rmsle_cv(KRR)\n",
    "print(\"Kernel Ridge score: {:.4f} ({:.4f})\\n\".format(score.mean(), score.std()))"
   ]
  },
  {
   "cell_type": "code",
   "execution_count": null,
   "metadata": {
    "_uuid": "5a275a4470293ed5f16abc51d9c4403156bea51a",
    "collapsed": true
   },
   "outputs": [],
   "source": [
    "score = rmsle_cv(GBoost)\n",
    "print(\"Gradient Boosting score: {:.4f} ({:.4f})\\n\".format(score.mean(), score.std()))"
   ]
  },
  {
   "cell_type": "code",
   "execution_count": null,
   "metadata": {
    "_uuid": "440b6087448476979b16c22b40401c06ab8f4e01",
    "collapsed": true
   },
   "outputs": [],
   "source": [
    "score = rmsle_cv(model_xgb)\n",
    "print(\"Xgboost score: {:.4f} ({:.4f})\\n\".format(score.mean(), score.std()))"
   ]
  },
  {
   "cell_type": "code",
   "execution_count": null,
   "metadata": {
    "_uuid": "332fb2939d436c14b490e5d0d001b3dcd3cba4b0",
    "collapsed": true
   },
   "outputs": [],
   "source": [
    "score = rmsle_cv(model_lgb)\n",
    "print(\"LGBM score: {:.4f} ({:.4f})\\n\" .format(score.mean(), score.std()))"
   ]
  },
  {
   "cell_type": "markdown",
   "metadata": {
    "_uuid": "af78057092803e88608ee9080dc30387aaf942ec"
   },
   "source": [
    "### 堆叠模型\n",
    "### 最简单的堆叠模型 : 平均基础模型"
   ]
  },
  {
   "cell_type": "code",
   "execution_count": null,
   "metadata": {
    "_uuid": "57190b428206bfca1bd2cc79f14214f099eb757a",
    "collapsed": true
   },
   "outputs": [],
   "source": [
    "class AveragingModels(BaseEstimator, RegressorMixin, TransformerMixin):\n",
    "    def __init__(self, models):\n",
    "        self.models = models\n",
    "        \n",
    "    # we define clones of the original models to fit the data in\n",
    "    def fit(self, X, y):\n",
    "        self.models_ = [clone(x) for x in self.models]\n",
    "        \n",
    "        # Train cloned base models\n",
    "        for model in self.models_:\n",
    "            model.fit(X, y)\n",
    "\n",
    "        return self\n",
    "    \n",
    "    #Now we do the predictions for cloned models and average them\n",
    "    def predict(self, X):\n",
    "        predictions = np.column_stack([\n",
    "            model.predict(X) for model in self.models_\n",
    "        ])\n",
    "        return np.mean(predictions, axis=1)   "
   ]
  },
  {
   "cell_type": "markdown",
   "metadata": {
    "_uuid": "29cd7094c5044caeff08cc1945c8a9d178f9a0bd",
    "collapsed": true
   },
   "source": [
    "### 平均基础模型得分\n",
    "### 这里我们堆叠4个模型 ENet, GBoost, KRR 和 lasso。 当然我们可以简单的堆叠更多模型。"
   ]
  },
  {
   "cell_type": "code",
   "execution_count": null,
   "metadata": {
    "_uuid": "978d9873186318cdbb713a7483eb2c6956639fdf",
    "collapsed": true
   },
   "outputs": [],
   "source": [
    "averaged_models = AveragingModels(models = (ENet, GBoost, KRR, lasso))\n",
    "\n",
    "score = rmsle_cv(averaged_models)\n",
    "print(\" Averaged base models score: {:.4f} ({:.4f})\\n\".format(score.mean(), score.std()))"
   ]
  },
  {
   "cell_type": "markdown",
   "metadata": {
    "_uuid": "9e50cf4b3c2af04555ff62d4d7239c6bae57951b"
   },
   "source": [
    "哇 ! 简单的堆叠模型就能够显著提高分数，这激励我们向前探索！"
   ]
  },
  {
   "cell_type": "markdown",
   "metadata": {
    "_uuid": "aff665cd35db39aa42b495143f0ad522da0fe4a1"
   },
   "source": [
    "### 不那么简单的堆叠 : 添加一个元模型\n",
    "在这种方法中，我们在平均基础模型上添加元模型，并使用这些基础模型的out-of-folds预测来训练我们的元模型。\n",
    "训练过程如下：\n",
    "1. 将整个训练集分成互不相交的两组(这里是train和holdout)\n",
    "2. 使用train训练一些基础模型\n",
    "3. 使用holdout测试这些基础模型\n",
    "4. 使用3.中的预测（称之为out-of-folds预测）当做输入，真实标签作为输出，对更高层次的原模型进行训练\n",
    "\n",
    "开始的三步是迭代完成的 。如果我们用5折堆叠，那么把训练数据分成5份，然后做5次迭代。在每次迭代中我们在4份数据（train）上训练其中一个基础模型然后在剩下的1份数据（holdout）上进行预测。\n",
    "\n",
    "所以我们能够确定当5次迭代后全部数据已经进行了out-of-folds预测，然后我们会用它们在第四步中对元模型进行训练。\n",
    "\n",
    "在预测的部分，我们将所有基础模型在测试数据上的预测进行平均，将它们作为meta-features，由元模型完成最终预测。.\n",
    "\n",
    "![](http://i.imgur.com/QBuDOjs.jpg)\n",
    "\n",
    "![](http://5047-presscdn.pagely.netdna-cdn.com/wp-content/uploads/2017/06/image5.gif)\n",
    "\n",
    "在上面的动画中，基础模型是0、1、2，元模型为3。全部训练数据为A+B(真实标签y已知)，A为train部分而B为holdout部分，测试数据为C。\n",
    "\n",
    "B1 (holdout部分的预测)是用来训练元模型3的新特征，C1 (对测试数据的预测) 是在最终预测中的meta-feature。"
   ]
  },
  {
   "cell_type": "code",
   "execution_count": null,
   "metadata": {
    "_uuid": "0fcc4080ed16d4630bfbd13143b7dbab184f0a7a",
    "collapsed": true
   },
   "outputs": [],
   "source": [
    "class StackingAveragedModels(BaseEstimator, RegressorMixin, TransformerMixin):\n",
    "    def __init__(self, base_models, meta_model, n_folds=5):\n",
    "        self.base_models = base_models\n",
    "        self.meta_model = meta_model\n",
    "        self.n_folds = n_folds\n",
    "   \n",
    "    # We again fit the data on clones of the original models\n",
    "    def fit(self, X, y):\n",
    "        self.base_models_ = [list() for x in self.base_models]\n",
    "        self.meta_model_ = clone(self.meta_model)\n",
    "        kfold = KFold(n_splits=self.n_folds, shuffle=True, random_state=156)\n",
    "        \n",
    "        # Train cloned base models then create out-of-fold predictions\n",
    "        # that are needed to train the cloned meta-model\n",
    "        out_of_fold_predictions = np.zeros((X.shape[0], len(self.base_models)))\n",
    "        for i, model in enumerate(self.base_models):\n",
    "            for train_index, holdout_index in kfold.split(X, y):\n",
    "                instance = clone(model)\n",
    "                self.base_models_[i].append(instance)\n",
    "                instance.fit(X[train_index], y[train_index])\n",
    "                y_pred = instance.predict(X[holdout_index])\n",
    "                out_of_fold_predictions[holdout_index, i] = y_pred\n",
    "                \n",
    "        # Now train the cloned  meta-model using the out-of-fold predictions as new feature\n",
    "        self.meta_model_.fit(out_of_fold_predictions, y)\n",
    "        return self\n",
    "   \n",
    "    #Do the predictions of all base models on the test data and use the averaged predictions as \n",
    "    #meta-features for the final prediction which is done by the meta-model\n",
    "    def predict(self, X):\n",
    "        meta_features = np.column_stack([\n",
    "            np.column_stack([model.predict(X) for model in base_models]).mean(axis=1)\n",
    "            for base_models in self.base_models_ ])\n",
    "        return self.meta_model_.predict(meta_features)"
   ]
  },
  {
   "cell_type": "markdown",
   "metadata": {
    "_uuid": "8ac7c4b531b2defcec6d6ea2e50f058ae7d3cdda"
   },
   "source": [
    "### 堆叠平均模型得分\n",
    "\n",
    "要使两种方法具有可比性 (使用同样数量的模型) , 我们还是平均 Enet KRR 和 Gboost, 然后使用 lasso 作为元模型。"
   ]
  },
  {
   "cell_type": "code",
   "execution_count": null,
   "metadata": {
    "_uuid": "01065771828c6b63f26b254470393a958a332a24",
    "collapsed": true
   },
   "outputs": [],
   "source": [
    "stacked_averaged_models = StackingAveragedModels(base_models = (ENet, GBoost, KRR),\n",
    "                                                 meta_model = lasso)\n",
    "\n",
    "#score = rmsle_cv(stacked_averaged_models)\n",
    "#print(\"Stacking Averaged models score: {:.4f} ({:.4f})\".format(score.mean(), score.std()))"
   ]
  },
  {
   "cell_type": "markdown",
   "metadata": {
    "_uuid": "8bfa81a98647aa442646ab4b5ebd07c42b82aee5"
   },
   "source": [
    "## 集成 StackedRegressor, XGBoost 和 LightGBM\n",
    "我们将 XGBoost 和 LightGBM 加入之前定义的StackedRegressor中。首先定义一个rmsle评估函数："
   ]
  },
  {
   "cell_type": "code",
   "execution_count": null,
   "metadata": {
    "_uuid": "61ed05513a4b748eef3af59c026eace07309f731",
    "collapsed": true
   },
   "outputs": [],
   "source": [
    "def rmsle(y, y_pred):\n",
    "    return np.sqrt(mean_squared_error(y, y_pred))"
   ]
  },
  {
   "cell_type": "markdown",
   "metadata": {
    "_uuid": "c811d251db51895ee9992691eb2bba258168a09a"
   },
   "source": [
    "## 最终的训练和预测\n",
    "* StackedRegressor"
   ]
  },
  {
   "cell_type": "code",
   "execution_count": null,
   "metadata": {
    "_uuid": "b3b71d36cc2b66545be1227f7a0c92c1e48400e3",
    "collapsed": true
   },
   "outputs": [],
   "source": [
    "stacked_averaged_models.fit(X_train.values, y_train)\n",
    "stacked_train_pred = stacked_averaged_models.predict(X_train.values)\n",
    "stacked_pred = np.expm1(stacked_averaged_models.predict(X_test.values))\n",
    "print(rmsle(y_train, stacked_train_pred))"
   ]
  },
  {
   "cell_type": "markdown",
   "metadata": {
    "_uuid": "0686a93e45146b6c984a731699cf000f1b3318ea"
   },
   "source": [
    "* XGBoost"
   ]
  },
  {
   "cell_type": "code",
   "execution_count": null,
   "metadata": {
    "_uuid": "74ed5957987f917daeb742b1f24ec66be77d9e00",
    "collapsed": true
   },
   "outputs": [],
   "source": [
    "model_xgb.fit(X_train, y_train)\n",
    "xgb_train_pred = model_xgb.predict(X_train)\n",
    "xgb_pred = np.expm1(model_xgb.predict(X_test))\n",
    "print(rmsle(y_train, xgb_train_pred))"
   ]
  },
  {
   "cell_type": "markdown",
   "metadata": {
    "_uuid": "db96d5a5343306da74b05223adc484cb54909896"
   },
   "source": [
    "* LightGBM:"
   ]
  },
  {
   "cell_type": "code",
   "execution_count": null,
   "metadata": {
    "_uuid": "75315b49cfc1bcd8c2ce4a3d6af150a787e03406",
    "collapsed": true
   },
   "outputs": [],
   "source": [
    "model_lgb.fit(X_train, y_train)\n",
    "lgb_train_pred = model_lgb.predict(X_train)\n",
    "lgb_pred = np.expm1(model_lgb.predict(X_test.values))\n",
    "print(rmsle(y_train, lgb_train_pred))"
   ]
  },
  {
   "cell_type": "markdown",
   "metadata": {
    "_uuid": "fb9b7ddcf5245eca232464d3a8f87df054b61c21"
   },
   "source": [
    "### 平均上述结果"
   ]
  },
  {
   "cell_type": "code",
   "execution_count": null,
   "metadata": {
    "_uuid": "e167bb787c520df91a12293dcf616d08def3f8c4",
    "collapsed": true
   },
   "outputs": [],
   "source": [
    "'''RMSE on the entire Train data when averaging'''\n",
    "\n",
    "print('RMSLE score on train data:')\n",
    "print(rmsle(y_train,stacked_train_pred*0.70 +\n",
    "               xgb_train_pred*0.15 + lgb_train_pred*0.15 ))"
   ]
  },
  {
   "cell_type": "markdown",
   "metadata": {
    "_uuid": "b0a8096e1aa5477b2615108dec377a09a0ad50f7"
   },
   "source": [
    "### 集成模型的预测"
   ]
  },
  {
   "cell_type": "code",
   "execution_count": null,
   "metadata": {
    "_uuid": "de357d4ac4f80fdcc05480f167280faaa8e9f091",
    "collapsed": true
   },
   "outputs": [],
   "source": [
    "ensemble = stacked_pred*0.70 + xgb_pred*0.15 + lgb_pred*0.15"
   ]
  },
  {
   "cell_type": "markdown",
   "metadata": {
    "_uuid": "cb61b94edeb89818b61597712604f965b2c85aeb"
   },
   "source": [
    "## 提交结果"
   ]
  },
  {
   "cell_type": "code",
   "execution_count": null,
   "metadata": {
    "_uuid": "b503f36daae90e0c4904cfecf053d8c23edf57aa",
    "collapsed": true
   },
   "outputs": [],
   "source": [
    "sub = pd.DataFrame()\n",
    "sub['Id'] = test_ID\n",
    "sub['SalePrice'] = ensemble\n",
    "sub.to_csv('submission_x.csv',index=False)"
   ]
  },
  {
   "cell_type": "code",
   "execution_count": null,
   "metadata": {
    "_uuid": "28854621bb7dd56e27cb48c32cd7602c4a8ef6fe",
    "collapsed": true
   },
   "outputs": [],
   "source": [
    "ensemble"
   ]
  }
 ],
 "metadata": {
  "kernelspec": {
   "display_name": "Python 3",
   "language": "python",
   "name": "python3"
  },
  "language_info": {
   "codemirror_mode": {
    "name": "ipython",
    "version": 3
   },
   "file_extension": ".py",
   "mimetype": "text/x-python",
   "name": "python",
   "nbconvert_exporter": "python",
   "pygments_lexer": "ipython3",
   "version": "3.6.5"
  }
 },
 "nbformat": 4,
 "nbformat_minor": 1
}
